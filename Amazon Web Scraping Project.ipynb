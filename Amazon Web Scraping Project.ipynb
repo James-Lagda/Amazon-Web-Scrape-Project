{
 "cells": [
  {
   "cell_type": "markdown",
   "id": "f7cd1b4e-739b-458d-b8de-38f2b919ae7e",
   "metadata": {},
   "source": [
    "# Amazon Web Scrape"
   ]
  },
  {
   "cell_type": "code",
   "execution_count": null,
   "id": "15bc3d68-77b6-4a58-b7e0-d2c1c4f71718",
   "metadata": {},
   "outputs": [],
   "source": [
    "from bs4 import BeautifulSoup\n",
    "import requests\n",
    "import time\n",
    "import datetime\n",
    "\n",
    "import smtplib"
   ]
  },
  {
   "cell_type": "code",
   "execution_count": null,
   "id": "702e5727-8520-47fb-9395-4d08d1099cc5",
   "metadata": {},
   "outputs": [],
   "source": [
    "URL = 'https://www.amazon.com/Rii-Multiple-Mechanical-Multimedia-Keyboard/dp/B0CCZWCPRQ/ref=sr_1_4?crid=2KNU0HHCA54G5&dib=eyJ2IjoiMSJ9.R8S3hPZYQHddcgNhieVzSrNAQy96oNqKMfXwpSMUYxDl6Y3bVAkrBwLKVRrWy78JJnaUmGUEISE2-AkoBLScLT0fJ_QpdixfUuuVZxKs4JrjPxvGEPBQeTCPVqwr-yKbAktSr3QouvwSFeKwEEDLiV4brDqdzsZe3A74z-tCci8bxo2Y7UHB_bsNmMUVLjteNBIHokX31xJMWMZoLxp5dh_SGXLdKgvC3tcga-W9ExU.iwY8F6tV9c3bojWBvaUsxKug1yZmDmfwmdVidmnwy8Q&dib_tag=se&keywords=keyboard&qid=1723959810&sprefix=keybo%2Caps%2C375&sr=8-4&th=1'\n",
    "headers = {\n",
    "    \"User-Agent\": \"Mozilla/5.0 (Windows NT 10.0; Win64; x64) AppleWebKit/537.36 (KHTML, like Gecko) Chrome/78.0.3904.108 Safari/537.36\",\n",
    "    \"Accept-Encoding\": \"gzip, deflate\",\n",
    "    \"Accept\": \"text/html,application/xhtml+xml,application/xml;q=0.9,*/*;q=0.8\",\n",
    "    \"DNT\": \"1\", \"Connection\": \"close\", \"Upgrade-Insecure-Requests\": \"1\"\n",
    "}\n",
    "\n",
    "page = requests.get(URL, headers=headers)\n",
    "soup = BeautifulSoup(page.content, \"html.parser\")\n",
    "\n",
    "# Extract title and price safely\n",
    "title_tag = soup.find(id='productTitle')\n",
    "price_tag = soup.find(id='priceblock_ourprice')\n",
    "\n",
    "title = title_tag.get_text(strip=True) if title_tag else \"Title not found\"\n",
    "price = price_tag.get_text(strip=True) if price_tag else \"Price not found\"\n",
    "\n",
    "print(f\"Title: {title}\")\n",
    "print(f\"Price: {price}\")"
   ]
  },
  {
   "cell_type": "code",
   "execution_count": null,
   "id": "88f49e8f-69a8-40d5-921e-21f2654b05cf",
   "metadata": {},
   "outputs": [],
   "source": [
    "price = price.strip()[1:]\n",
    "title = title.strip()\n",
    "\n",
    "print(title)\n",
    "print(price)"
   ]
  },
  {
   "cell_type": "code",
   "execution_count": null,
   "id": "df1c060d-3d64-4201-8331-e8fc9a06fe57",
   "metadata": {},
   "outputs": [],
   "source": [
    "import datetime\n",
    "\n",
    "today = datetime.date.today()\n",
    "\n",
    "print(today)"
   ]
  },
  {
   "cell_type": "code",
   "execution_count": null,
   "id": "46144564-a68b-4121-8d0f-11b0ad632a4d",
   "metadata": {},
   "outputs": [],
   "source": [
    "import csv \n",
    "\n",
    "header = ['Title', 'Price', 'Date']\n",
    "data = [title, price, today]\n",
    "\n",
    "\n",
    "with open('AmazonWebScrapData.csv', 'w', newline='', encoding='UTF8') as f:\n",
    "    writer = csv.writer(f)\n",
    "    writer.writerow(header)\n",
    "    writer.writerow(data)"
   ]
  },
  {
   "cell_type": "code",
   "execution_count": null,
   "id": "72aae164-2659-4e97-a260-25bf9414444f",
   "metadata": {},
   "outputs": [],
   "source": [
    "import pandas as pd\n",
    "\n",
    "df = pd.read_csv(r\"C:\\Users\\irvin\\OneDrive\\Desktop\\ARAL SERIES\\DATA ANALYTICS\\PANDAS PYTHON\\AmazonWebScrapData.csv\")\n",
    "\n",
    "print(df)"
   ]
  },
  {
   "cell_type": "code",
   "execution_count": null,
   "id": "9b321d50-66fa-4d43-abd6-28316f45e4f0",
   "metadata": {},
   "outputs": [],
   "source": [
    "with open('AmazonWebScraperDataset.csv', 'a+', newline='', encoding='UTF8') as f:\n",
    "    writer = csv.writer(f)\n",
    "    writer.writerow(data)"
   ]
  },
  {
   "cell_type": "code",
   "execution_count": null,
   "id": "2ac3286a-176a-45cd-b9ba-53118786a4a6",
   "metadata": {},
   "outputs": [],
   "source": [
    "def check_price():\n",
    "    \n",
    "    url = 'https://www.amazon.com/Rii-Multiple-Mechanical-Multimedia-Keyboard/dp/B0CCZWCPRQ/ref=sr_1_4?crid=2KNU0HHCA54G5&dib=eyJ2IjoiMSJ9.R8S3hPZYQHddcgNhieVzSrNAQy96oNqKMfXwpSMUYxDl6Y3bVAkrBwLKVRrWy78JJnaUmGUEISE2-AkoBLScLT0fJ_QpdixfUuuVZxKs4JrjPxvGEPBQeTCPVqwr-yKbAktSr3QouvwSFeKwEEDLiV4brDqdzsZe3A74z-tCci8bxo2Y7UHB_bsNmMUVLjteNBIHokX31xJMWMZoLxp5dh_SGXLdKgvC3tcga-W9ExU.iwY8F6tV9c3bojWBvaUsxKug1yZmDmfwmdVidmnwy8Q&dib_tag=se&keywords=keyboard&qid=1723959810&sprefix=keybo%2Caps%2C375&sr=8-4&th=1'\n",
    "    headers = {\n",
    "    \"User-Agent\": \"Mozilla/5.0 (Windows NT 10.0; Win64; x64) AppleWebKit/537.36 (KHTML, like Gecko) Chrome/78.0.3904.108 Safari/537.36\",\n",
    "    \"Accept-Encoding\": \"gzip, deflate\",\n",
    "    \"Accept\": \"text/html,application/xhtml+xml,application/xml;q=0.9,*/*;q=0.8\",\n",
    "    \"DNT\": \"1\", \"Connection\": \"close\", \"Upgrade-Insecure-Requests\": \"1\"\n",
    "}\n",
    "\n",
    "    page = requests.get(URL, headers=headers)\n",
    "    soup = BeautifulSoup(page.content, \"html.parser\")\n",
    "\n",
    "# Extract title and price safely\n",
    "    title_tag = soup.find(id='productTitle')\n",
    "    price_tag = soup.find(id='priceblock_ourprice')\n",
    "\n",
    "    title = title_tag.get_text(strip=True) if title_tag else \"Title not found\"\n",
    "    price = price_tag.get_text(strip=True) if price_tag else \"Price not found\"\n",
    "\n",
    "    import datetime\n",
    "\n",
    "    today = datetime.date.today()\n",
    "\n",
    "    import csv \n",
    "\n",
    "    header = ['Title', 'Price', 'Date']\n",
    "    data = [title, price, today]\n",
    "\n",
    "\n",
    "    with open('AmazonWebScrapData.csv', 'w', newline='', encoding='UTF8') as f:\n",
    "        writer = csv.writer(f)\n",
    "        writer.writerow(header)\n",
    "        writer.writerow(data)"
   ]
  },
  {
   "cell_type": "code",
   "execution_count": null,
   "id": "fbad0bbd-787c-483d-816c-b691fb0860a7",
   "metadata": {},
   "outputs": [],
   "source": [
    "while(True):\n",
    "    check_price()\n",
    "    time.sleep(100000)"
   ]
  },
  {
   "cell_type": "code",
   "execution_count": null,
   "id": "0346da6b-2cb4-481c-8291-ed280191ff33",
   "metadata": {},
   "outputs": [],
   "source": [
    "import pandas as pd\n",
    "\n",
    "df = pd.read_csv(r'C:\\Users\\irvin\\AmazonWebScraperDataset.csv')\n",
    "\n",
    "print(df)"
   ]
  },
  {
   "cell_type": "code",
   "execution_count": null,
   "id": "b2346123-5008-44ff-aedf-55b0b18735e4",
   "metadata": {},
   "outputs": [],
   "source": [
    "def send_mail():\n",
    "    server = smtplib.SMTP_SSL('smtp.gmail.com',465)\n",
    "    server.ehlo()\n",
    "    #server.starttls()\n",
    "    server.ehlo()\n",
    "    server.login('irvinlagda14@gmail.com','xxxxxxxxxxxxxx')\n",
    "    \n",
    "    subject = \"The Shirt you want is below $15! Now is your chance to buy!\"\n",
    "    body = \"James, This is the moment we have been waiting for. Now is your chance to pick up the shirt of your dreams. Don't mess it up! Link here: https://www.amazon.com/Funny-Data-Systems-Business-Analyst/dp/B07FNW9FGJ/ref=sr_1_3?dchild=1&keywords=data+analyst+tshirt&qid=1626655184&sr=8-3\"\n",
    "   \n",
    "    msg = f\"Subject: {subject}\\n\\n{body}\"\n",
    "    \n",
    "    server.sendmail(\n",
    "        'irvinlagda14@gmail.com',\n",
    "        msg\n",
    "     \n",
    "    )"
   ]
  },
  {
   "cell_type": "code",
   "execution_count": null,
   "id": "698aea9f-6d25-46d5-a161-2cc83c757455",
   "metadata": {},
   "outputs": [],
   "source": []
  },
  {
   "cell_type": "code",
   "execution_count": null,
   "id": "4a8ddaea-7c36-4962-bd37-f072f53e8336",
   "metadata": {},
   "outputs": [],
   "source": []
  },
  {
   "cell_type": "code",
   "execution_count": null,
   "id": "b739a654-3495-4810-8969-888c413786ca",
   "metadata": {},
   "outputs": [],
   "source": []
  },
  {
   "cell_type": "code",
   "execution_count": null,
   "id": "f643dc78-3653-422b-b68c-701f922b0525",
   "metadata": {},
   "outputs": [],
   "source": []
  },
  {
   "cell_type": "code",
   "execution_count": null,
   "id": "76f6f6dc-b1e9-4e90-99f9-bc77c0c39d98",
   "metadata": {},
   "outputs": [],
   "source": []
  },
  {
   "cell_type": "code",
   "execution_count": null,
   "id": "e17e6188-9a21-4ba4-935b-af793e770786",
   "metadata": {},
   "outputs": [],
   "source": []
  },
  {
   "cell_type": "code",
   "execution_count": null,
   "id": "10d16b63-832e-4280-b7a3-402e77e40de9",
   "metadata": {},
   "outputs": [],
   "source": []
  },
  {
   "cell_type": "code",
   "execution_count": null,
   "id": "65c33a06-35b5-46f6-8852-654999bf944a",
   "metadata": {},
   "outputs": [],
   "source": []
  }
 ],
 "metadata": {
  "kernelspec": {
   "display_name": "Python 3 (ipykernel)",
   "language": "python",
   "name": "python3"
  },
  "language_info": {
   "codemirror_mode": {
    "name": "ipython",
    "version": 3
   },
   "file_extension": ".py",
   "mimetype": "text/x-python",
   "name": "python",
   "nbconvert_exporter": "python",
   "pygments_lexer": "ipython3",
   "version": "3.12.4"
  }
 },
 "nbformat": 4,
 "nbformat_minor": 5
}
